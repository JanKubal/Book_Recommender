{
 "cells": [
  {
   "cell_type": "code",
   "execution_count": 30,
   "metadata": {},
   "outputs": [],
   "source": [
    "import pandas as pd\n",
    "import numpy as np\n",
    "import matplotlib.pyplot as plt\n",
    "pd.set_option('display.max_rows', 500)\n",
    "pd.set_option('display.max_columns', 500)\n",
    "from IPython.core.interactiveshell import InteractiveShell\n",
    "InteractiveShell.ast_node_interactivity = \"all\"\n",
    "\n",
    "from sklearn.feature_extraction.text import CountVectorizer\n",
    "from sklearn.metrics.pairwise import cosine_similarity\n",
    "\n",
    "from scipy.sparse import csr_matrix\n",
    "from pandas.api.types import CategoricalDtype"
   ]
  },
  {
   "cell_type": "markdown",
   "metadata": {},
   "source": [
    "# Data Loading & Clearing"
   ]
  },
  {
   "cell_type": "code",
   "execution_count": 2,
   "metadata": {},
   "outputs": [],
   "source": [
    "#Ideas\n",
    "\n",
    "#How could user enter book: Enter part of title, then search in books dataframe with .title.str.contains(<input>), \n",
    "#then sort results by number of ratings to get the most rated book and hence the highest chance of good recommendations.\n",
    "\n",
    "#Also, filter the outputs not to contain the same string which was given as input"
   ]
  },
  {
   "cell_type": "code",
   "execution_count": 3,
   "metadata": {},
   "outputs": [
    {
     "data": {
      "text/plain": [
       "(1149780, 3)"
      ]
     },
     "execution_count": 3,
     "metadata": {},
     "output_type": "execute_result"
    },
    {
     "data": {
      "text/plain": [
       "user      105283\n",
       "ISBN      340553\n",
       "rating        11\n",
       "dtype: int64"
      ]
     },
     "execution_count": 3,
     "metadata": {},
     "output_type": "execute_result"
    }
   ],
   "source": [
    "ratings = pd.read_csv('BX-Book-Ratings.csv', sep = ';' , encoding='utf-8', on_bad_lines='warn', encoding_errors = 'ignore') #There are some suspicious ISBNs, we might loos them as they will not match with books on merging\n",
    "ratings.rename(columns={'User-ID':'user'\n",
    "                        , 'Book-Rating': 'rating'}, inplace=True)\n",
    "ratings.shape\n",
    "ratings.nunique()"
   ]
  },
  {
   "cell_type": "code",
   "execution_count": 4,
   "metadata": {},
   "outputs": [
    {
     "name": "stderr",
     "output_type": "stream",
     "text": [
      "b'Skipping line 6452: expected 8 fields, saw 9\\nSkipping line 43667: expected 8 fields, saw 10\\nSkipping line 51751: expected 8 fields, saw 9\\n'\n",
      "b'Skipping line 92038: expected 8 fields, saw 9\\nSkipping line 104319: expected 8 fields, saw 9\\nSkipping line 121768: expected 8 fields, saw 9\\n'\n",
      "b'Skipping line 144058: expected 8 fields, saw 9\\nSkipping line 150789: expected 8 fields, saw 9\\nSkipping line 157128: expected 8 fields, saw 9\\nSkipping line 180189: expected 8 fields, saw 9\\nSkipping line 185738: expected 8 fields, saw 9\\n'\n",
      "b'Skipping line 209388: expected 8 fields, saw 9\\nSkipping line 220626: expected 8 fields, saw 9\\nSkipping line 227933: expected 8 fields, saw 11\\nSkipping line 228957: expected 8 fields, saw 10\\nSkipping line 245933: expected 8 fields, saw 9\\nSkipping line 251296: expected 8 fields, saw 9\\nSkipping line 259941: expected 8 fields, saw 9\\nSkipping line 261529: expected 8 fields, saw 9\\n'\n",
      "d:\\Program_files\\Anaconda_nw_install_2022\\lib\\site-packages\\IPython\\core\\interactiveshell.py:3444: DtypeWarning: Columns (3) have mixed types.Specify dtype option on import or set low_memory=False.\n",
      "  exec(code_obj, self.user_global_ns, self.user_ns)\n"
     ]
    },
    {
     "data": {
      "text/plain": [
       "ISBN           271360\n",
       "title          242135\n",
       "author         102023\n",
       "year              202\n",
       "publisher       16807\n",
       "Image-URL-S    271044\n",
       "Image-URL-M    271044\n",
       "Image-URL-L    271041\n",
       "dtype: int64"
      ]
     },
     "execution_count": 4,
     "metadata": {},
     "output_type": "execute_result"
    }
   ],
   "source": [
    "# dtype_mapping = {\n",
    "#     'Year-Of-Publication': float\n",
    "# }\n",
    "books = pd.read_csv('BX-Books.csv', sep = ';', encoding='utf-8', on_bad_lines='warn', encoding_errors = 'ignore')\n",
    "\n",
    "#books.drop(books[books['Unnamed: 8'].notna()].index, axis = 0, inplace=True) #Dropping the shifted rows. There is 19 of them, not worth the manual correction I think.\n",
    "#books.drop(['Unnamed: 8', 'Unnamed: 9', 'Unnamed: 10'], axis = 1, inplace=True)\n",
    "books.rename(columns={'Book-Title':'title'\n",
    "                        , 'Book-Author': 'author'\n",
    "                        , 'Year-Of-Publication': 'year'\n",
    "                        , 'Publisher': 'publisher'}, inplace=True)\n",
    "#books\n",
    "books.nunique()"
   ]
  },
  {
   "cell_type": "code",
   "execution_count": 5,
   "metadata": {},
   "outputs": [
    {
     "name": "stdout",
     "output_type": "stream",
     "text": [
      "(278858, 3)\n"
     ]
    },
    {
     "data": {
      "text/plain": [
       "user        278858\n",
       "location     57293\n",
       "age            165\n",
       "dtype: int64"
      ]
     },
     "execution_count": 5,
     "metadata": {},
     "output_type": "execute_result"
    }
   ],
   "source": [
    "users = pd.read_csv('BX-Users.csv', sep = ';' , encoding='utf-8', on_bad_lines='warn', encoding_errors = 'ignore')\n",
    "users.rename(columns={'User-ID':'user'\n",
    "                        , 'Location': 'location'\n",
    "                        , 'Age': 'age'}, inplace=True)\n",
    "print(users.shape)\n",
    "users.nunique()"
   ]
  },
  {
   "cell_type": "code",
   "execution_count": 6,
   "metadata": {},
   "outputs": [
    {
     "data": {
      "text/html": [
       "<div>\n",
       "<style scoped>\n",
       "    .dataframe tbody tr th:only-of-type {\n",
       "        vertical-align: middle;\n",
       "    }\n",
       "\n",
       "    .dataframe tbody tr th {\n",
       "        vertical-align: top;\n",
       "    }\n",
       "\n",
       "    .dataframe thead th {\n",
       "        text-align: right;\n",
       "    }\n",
       "</style>\n",
       "<table border=\"1\" class=\"dataframe\">\n",
       "  <thead>\n",
       "    <tr style=\"text-align: right;\">\n",
       "      <th></th>\n",
       "      <th>user</th>\n",
       "      <th>ISBN</th>\n",
       "      <th>rating</th>\n",
       "    </tr>\n",
       "  </thead>\n",
       "  <tbody>\n",
       "    <tr>\n",
       "      <th>0</th>\n",
       "      <td>276725</td>\n",
       "      <td>034545104X</td>\n",
       "      <td>0</td>\n",
       "    </tr>\n",
       "    <tr>\n",
       "      <th>1</th>\n",
       "      <td>276726</td>\n",
       "      <td>0155061224</td>\n",
       "      <td>5</td>\n",
       "    </tr>\n",
       "    <tr>\n",
       "      <th>2</th>\n",
       "      <td>276727</td>\n",
       "      <td>0446520802</td>\n",
       "      <td>0</td>\n",
       "    </tr>\n",
       "    <tr>\n",
       "      <th>3</th>\n",
       "      <td>276729</td>\n",
       "      <td>052165615X</td>\n",
       "      <td>3</td>\n",
       "    </tr>\n",
       "    <tr>\n",
       "      <th>4</th>\n",
       "      <td>276729</td>\n",
       "      <td>0521795028</td>\n",
       "      <td>6</td>\n",
       "    </tr>\n",
       "    <tr>\n",
       "      <th>...</th>\n",
       "      <td>...</td>\n",
       "      <td>...</td>\n",
       "      <td>...</td>\n",
       "    </tr>\n",
       "    <tr>\n",
       "      <th>1149775</th>\n",
       "      <td>276704</td>\n",
       "      <td>1563526298</td>\n",
       "      <td>9</td>\n",
       "    </tr>\n",
       "    <tr>\n",
       "      <th>1149776</th>\n",
       "      <td>276706</td>\n",
       "      <td>0679447156</td>\n",
       "      <td>0</td>\n",
       "    </tr>\n",
       "    <tr>\n",
       "      <th>1149777</th>\n",
       "      <td>276709</td>\n",
       "      <td>0515107662</td>\n",
       "      <td>10</td>\n",
       "    </tr>\n",
       "    <tr>\n",
       "      <th>1149778</th>\n",
       "      <td>276721</td>\n",
       "      <td>0590442449</td>\n",
       "      <td>10</td>\n",
       "    </tr>\n",
       "    <tr>\n",
       "      <th>1149779</th>\n",
       "      <td>276723</td>\n",
       "      <td>05162443314</td>\n",
       "      <td>8</td>\n",
       "    </tr>\n",
       "  </tbody>\n",
       "</table>\n",
       "<p>1149780 rows × 3 columns</p>\n",
       "</div>"
      ],
      "text/plain": [
       "           user         ISBN  rating\n",
       "0        276725   034545104X       0\n",
       "1        276726   0155061224       5\n",
       "2        276727   0446520802       0\n",
       "3        276729   052165615X       3\n",
       "4        276729   0521795028       6\n",
       "...         ...          ...     ...\n",
       "1149775  276704   1563526298       9\n",
       "1149776  276706   0679447156       0\n",
       "1149777  276709   0515107662      10\n",
       "1149778  276721   0590442449      10\n",
       "1149779  276723  05162443314       8\n",
       "\n",
       "[1149780 rows x 3 columns]"
      ]
     },
     "execution_count": 6,
     "metadata": {},
     "output_type": "execute_result"
    }
   ],
   "source": [
    "ratings"
   ]
  },
  {
   "cell_type": "code",
   "execution_count": 65,
   "metadata": {},
   "outputs": [],
   "source": [
    "#how many ratings each book have?\n",
    "explicit_rating_counts = ratings[ratings['rating'] > 0][['ISBN', 'rating']].groupby('ISBN', as_index=False).count().rename(columns={'rating':'explicit_ratings'})\n",
    "implicit_rating_counts = ratings[ratings['rating'] == 0][['ISBN', 'rating']].groupby('ISBN', as_index=False).count().rename(columns={'rating':'implicit_ratings'})\n",
    "#implicit_rating_counts\n",
    "\n",
    "if 'explicit_ratings' not in books.columns:\n",
    "    books = books.merge(explicit_rating_counts, on = 'ISBN', how='left')\n",
    "    books = books.merge(implicit_rating_counts, on = 'ISBN', how='left')"
   ]
  },
  {
   "cell_type": "code",
   "execution_count": 8,
   "metadata": {},
   "outputs": [
    {
     "data": {
      "text/plain": [
       "array([2002, 2001, 1991, 1999, 2000, 1993, 1996, 1988, 2004, 1998, 1994,\n",
       "       2003, 1997, 1983, 1979, 1995, 1982, 1985, 1992, 1986, 1978, 1980,\n",
       "       1952, 1987, 1990, 1981, 1989, 1984, 0, 1968, 1961, 1958, 1974,\n",
       "       1976, 1971, 1977, 1975, 1965, 1941, 1970, 1962, 1973, 1972, 1960,\n",
       "       1966, 1920, 1956, 1959, 1953, 1951, 1942, 1963, 1964, 1969, 1954,\n",
       "       1950, 1967, 2005, 1957, 1940, 1937, 1955, 1946, 1936, 1930, 2011,\n",
       "       1925, 1948, 1943, 1947, 1945, 1923, 2020, 1939, 1926, 1938, 2030,\n",
       "       1911, 1904, 1949, 1932, 1928, 1929, 1927, 1931, 1914, 2050, 1934,\n",
       "       1910, 1933, 1902, 1924, 1921, 1900, 2038, 2026, 1944, 1917, 1901,\n",
       "       2010, 1908, 1906, 1935, 1806, 2021, '2000', '1995', '1999', '2004',\n",
       "       '2003', '1990', '1994', '1986', '1989', '2002', '1981', '1993',\n",
       "       '1983', '1982', '1976', '1991', '1977', '1998', '1992', '1996',\n",
       "       '0', '1997', '2001', '1974', '1968', '1987', '1984', '1988',\n",
       "       '1963', '1956', '1970', '1985', '1978', '1973', '1980', '1979',\n",
       "       '1975', '1969', '1961', '1965', '1939', '1958', '1950', '1953',\n",
       "       '1966', '1971', '1959', '1972', '1955', '1957', '1945', '1960',\n",
       "       '1967', '1932', '1924', '1964', '2012', '1911', '1927', '1948',\n",
       "       '1962', '2006', '1952', '1940', '1951', '1931', '1954', '2005',\n",
       "       '1930', '1941', '1944', 'DK Publishing Inc', '1943', '1938',\n",
       "       '1900', '1942', '1923', '1920', '1933', 'Gallimard', '1909',\n",
       "       '1946', '2008', '1378', '2030', '1936', '1947', '2011', '2020',\n",
       "       '1919', '1949', '1922', '1897', '2024', '1376', '1926', '2037'],\n",
       "      dtype=object)"
      ]
     },
     "execution_count": 8,
     "metadata": {},
     "output_type": "execute_result"
    }
   ],
   "source": [
    "books.year.unique()"
   ]
  },
  {
   "cell_type": "code",
   "execution_count": 9,
   "metadata": {},
   "outputs": [],
   "source": [
    "#Clearing the years of publication\n",
    "books.drop(books[books['year'] == 'Gallimard'].index, axis = 0, inplace=True)\n",
    "books.drop(books[books['year'] == 'DK Publishing Inc'].index, axis = 0, inplace=True)\n",
    "books['year'] = books['year'].astype(int, errors='ignore')\n",
    "\n",
    "#books.loc[books.year == 0, 'year'] = np.NAN ## <<------- this forces the column to be floats. So I will let the zeros stay for now, see how it will affect the rest."
   ]
  },
  {
   "cell_type": "code",
   "execution_count": 10,
   "metadata": {},
   "outputs": [
    {
     "data": {
      "text/plain": [
       "array([2002, 2001, 1991, 1999, 2000, 1993, 1996, 1988, 2004, 1998, 1994,\n",
       "       2003, 1997, 1983, 1979, 1995, 1982, 1985, 1992, 1986, 1978, 1980,\n",
       "       1952, 1987, 1990, 1981, 1989, 1984,    0, 1968, 1961, 1958, 1974,\n",
       "       1976, 1971, 1977, 1975, 1965, 1941, 1970, 1962, 1973, 1972, 1960,\n",
       "       1966, 1920, 1956, 1959, 1953, 1951, 1942, 1963, 1964, 1969, 1954,\n",
       "       1950, 1967, 2005, 1957, 1940, 1937, 1955, 1946, 1936, 1930, 2011,\n",
       "       1925, 1948, 1943, 1947, 1945, 1923, 2020, 1939, 1926, 1938, 2030,\n",
       "       1911, 1904, 1949, 1932, 1928, 1929, 1927, 1931, 1914, 2050, 1934,\n",
       "       1910, 1933, 1902, 1924, 1921, 1900, 2038, 2026, 1944, 1917, 1901,\n",
       "       2010, 1908, 1906, 1935, 1806, 2021, 2012, 2006, 1909, 2008, 1378,\n",
       "       1919, 1922, 1897, 2024, 1376, 2037])"
      ]
     },
     "execution_count": 10,
     "metadata": {},
     "output_type": "execute_result"
    }
   ],
   "source": [
    "books.year.unique()"
   ]
  },
  {
   "cell_type": "code",
   "execution_count": 11,
   "metadata": {},
   "outputs": [
    {
     "data": {
      "text/plain": [
       "1995.0"
      ]
     },
     "execution_count": 11,
     "metadata": {},
     "output_type": "execute_result"
    }
   ],
   "source": [
    "#books['year'] = books['year'].astype(int, errors='ignore')\n",
    "books['year'].median()"
   ]
  },
  {
   "cell_type": "code",
   "execution_count": 12,
   "metadata": {},
   "outputs": [],
   "source": [
    "#Adding a time period when the book was released, instead of a year\n",
    "#The idea here is to add firslty the tens of the book release, and secondly the most adjecent tens as a secondary variable\n",
    "#Hence e.g. for 1991 -> 1990 and 1980, and for 1998 -> 1990 and 2000\n",
    "books['period1'] = (books.year // 10) * 10\n",
    "books['period2'] = books['period1'] + ((((books.year - books.period1) >= 5)*2-1)*10)\n"
   ]
  },
  {
   "cell_type": "code",
   "execution_count": 13,
   "metadata": {},
   "outputs": [],
   "source": [
    "#books[['ISBN', 'year', 'period1', 'period2']]"
   ]
  },
  {
   "cell_type": "markdown",
   "metadata": {},
   "source": [
    "# Similarity Selection"
   ]
  },
  {
   "cell_type": "code",
   "execution_count": 95,
   "metadata": {},
   "outputs": [
    {
     "data": {
      "text/html": [
       "<div>\n",
       "<style scoped>\n",
       "    .dataframe tbody tr th:only-of-type {\n",
       "        vertical-align: middle;\n",
       "    }\n",
       "\n",
       "    .dataframe tbody tr th {\n",
       "        vertical-align: top;\n",
       "    }\n",
       "\n",
       "    .dataframe thead th {\n",
       "        text-align: right;\n",
       "    }\n",
       "</style>\n",
       "<table border=\"1\" class=\"dataframe\">\n",
       "  <thead>\n",
       "    <tr style=\"text-align: right;\">\n",
       "      <th></th>\n",
       "      <th>ISBN</th>\n",
       "      <th>title</th>\n",
       "      <th>author</th>\n",
       "      <th>year</th>\n",
       "      <th>publisher</th>\n",
       "      <th>explicit_ratings</th>\n",
       "      <th>implicit_ratings</th>\n",
       "      <th>period1</th>\n",
       "      <th>period2</th>\n",
       "    </tr>\n",
       "  </thead>\n",
       "  <tbody>\n",
       "    <tr>\n",
       "      <th>1571</th>\n",
       "      <td>0345339703</td>\n",
       "      <td>The Fellowship of the Ring (The Lord of the Ri...</td>\n",
       "      <td>J.R.R. TOLKIEN</td>\n",
       "      <td>1986</td>\n",
       "      <td>Del Rey</td>\n",
       "      <td>131.0</td>\n",
       "      <td>126.0</td>\n",
       "      <td>1980</td>\n",
       "      <td>1990</td>\n",
       "    </tr>\n",
       "  </tbody>\n",
       "</table>\n",
       "</div>"
      ],
      "text/plain": [
       "            ISBN                                              title  \\\n",
       "1571  0345339703  The Fellowship of the Ring (The Lord of the Ri...   \n",
       "\n",
       "              author  year publisher  explicit_ratings  implicit_ratings  \\\n",
       "1571  J.R.R. TOLKIEN  1986   Del Rey             131.0             126.0   \n",
       "\n",
       "      period1  period2  \n",
       "1571     1980     1990  "
      ]
     },
     "metadata": {},
     "output_type": "display_data"
    }
   ],
   "source": [
    "##Inputs/argumets\n",
    "# input_name = 'The Lord of the Rings' #Unclear input, when name of the series is given, instead of a name of a book\n",
    "input_name = 'The Fellowship of the Ring'\n",
    "# input_name = 'The Eye of the World'\n",
    "# input_name = 'Great Expectations' \n",
    "# input_name = 'The Color of Magic'\n",
    "# input_name = 'The Egyptian' #Here is a problem that title contains 'A Novel'. Giving more weight to author could help?\n",
    "# input_name = 'Hotel New Hampshire'\n",
    "# input_name = 'The Shining'\n",
    "# input_name = 'For Whom the Bell Tolls'\n",
    "\n",
    "input_book = (books[(books['title'].str.contains(input_name))\n",
    "                .replace(np.NaN, False)]\n",
    "                .sort_values(['explicit_ratings', 'implicit_ratings'], ascending = False).head(1)[['ISBN', 'title', 'author', 'year', 'publisher', \n",
    "                                                                                                   'explicit_ratings', 'implicit_ratings',\n",
    "                                                                                                    'period1', 'period2']]\n",
    "                )\n",
    "\n",
    "display(input_book)\n",
    "\n",
    "input_index = input_book.index[0]\n",
    "input_ISBN = input_book.ISBN.values[0]\n",
    "              \n",
    "choose_n = 5"
   ]
  },
  {
   "cell_type": "code",
   "execution_count": 98,
   "metadata": {},
   "outputs": [],
   "source": [
    "#books[(books['author'].str.contains('Tolkien')).replace(np.NaN, False)]\n",
    "#books[(books['author'].str.contains('Robert Jordan')).replace(np.NaN, False)].head(10)\n",
    "#books[(books['title'].str.contains('The Eye of the World')).replace(np.NaN, False)]"
   ]
  },
  {
   "cell_type": "code",
   "execution_count": 99,
   "metadata": {},
   "outputs": [],
   "source": [
    "books['info'] = ( books.title + ' ' +\n",
    "                 (books.author.fillna('') + ' ')*1 \n",
    "                 + books.publisher.fillna('') + ' ' \n",
    "                 + books.year.astype(str) + ' ' \n",
    "                 + books.period1.astype(str) + ' ' \n",
    "                 + books.period2.astype(str))\n",
    "#Here possibly add weight by multiplying the number of times the info appears?\n",
    "#But if I will use cosine similarity, this way of adding weights is probably useless (?): https://www.pinecone.io/learn/vector-similarity/"
   ]
  },
  {
   "cell_type": "code",
   "execution_count": 100,
   "metadata": {},
   "outputs": [
    {
     "data": {
      "text/html": [
       "<div>\n",
       "<style scoped>\n",
       "    .dataframe tbody tr th:only-of-type {\n",
       "        vertical-align: middle;\n",
       "    }\n",
       "\n",
       "    .dataframe tbody tr th {\n",
       "        vertical-align: top;\n",
       "    }\n",
       "\n",
       "    .dataframe thead th {\n",
       "        text-align: right;\n",
       "    }\n",
       "</style>\n",
       "<table border=\"1\" class=\"dataframe\">\n",
       "  <thead>\n",
       "    <tr style=\"text-align: right;\">\n",
       "      <th></th>\n",
       "      <th>ISBN</th>\n",
       "      <th>title</th>\n",
       "      <th>author</th>\n",
       "      <th>year</th>\n",
       "      <th>publisher</th>\n",
       "      <th>Image-URL-S</th>\n",
       "      <th>Image-URL-M</th>\n",
       "      <th>Image-URL-L</th>\n",
       "      <th>explicit_ratings</th>\n",
       "      <th>implicit_ratings</th>\n",
       "      <th>period1</th>\n",
       "      <th>period2</th>\n",
       "      <th>info</th>\n",
       "    </tr>\n",
       "  </thead>\n",
       "  <tbody>\n",
       "  </tbody>\n",
       "</table>\n",
       "</div>"
      ],
      "text/plain": [
       "Empty DataFrame\n",
       "Columns: [ISBN, title, author, year, publisher, Image-URL-S, Image-URL-M, Image-URL-L, explicit_ratings, implicit_ratings, period1, period2, info]\n",
       "Index: []"
      ]
     },
     "execution_count": 100,
     "metadata": {},
     "output_type": "execute_result"
    },
    {
     "name": "stdout",
     "output_type": "stream",
     "text": [
      "Classical Mythology Mark P. O. Morford Oxford University Press 2002 2000 1990\n",
      "Clara Callan Richard Bruce Wright HarperFlamingo Canada 2001 2000 1990\n",
      "Decision in Normandy Carlo D'Este HarperPerennial 1991 1990 1980\n"
     ]
    }
   ],
   "source": [
    "books[books['info'].isna()] #empty df\n",
    "for i in books['info'][0:3]:\n",
    "    print(i)"
   ]
  },
  {
   "cell_type": "code",
   "execution_count": 101,
   "metadata": {},
   "outputs": [],
   "source": [
    "vectorizer = CountVectorizer()\n",
    "term_matrix = vectorizer.fit_transform(books['info'])"
   ]
  },
  {
   "cell_type": "code",
   "execution_count": 102,
   "metadata": {},
   "outputs": [
    {
     "data": {
      "text/plain": [
       "271357"
      ]
     },
     "execution_count": 102,
     "metadata": {},
     "output_type": "execute_result"
    },
    {
     "data": {
      "text/plain": [
       "(271357, 117284)"
      ]
     },
     "execution_count": 102,
     "metadata": {},
     "output_type": "execute_result"
    }
   ],
   "source": [
    "len(books)\n",
    "term_matrix.shape\n",
    "#print(term_matrix[0:5])"
   ]
  },
  {
   "cell_type": "code",
   "execution_count": 103,
   "metadata": {},
   "outputs": [],
   "source": [
    "#similarities = cosine_similarity(term_matrix, dense_output=False)"
   ]
  },
  {
   "cell_type": "code",
   "execution_count": 104,
   "metadata": {},
   "outputs": [],
   "source": [
    "#Computing similarities of all books takes too long. Perhaps I could select one book and compute similarity of it with the remaining."
   ]
  },
  {
   "cell_type": "code",
   "execution_count": 105,
   "metadata": {},
   "outputs": [],
   "source": [
    "row_to_compare = term_matrix[input_index, :]\n",
    "similarities = cosine_similarity(row_to_compare, term_matrix)"
   ]
  },
  {
   "cell_type": "code",
   "execution_count": 106,
   "metadata": {},
   "outputs": [
    {
     "data": {
      "text/plain": [
       "array([[0.05679618, 0.05679618, 0.11973687, ..., 0.53881591, 0.05679618,\n",
       "        0.27322953]])"
      ]
     },
     "execution_count": 106,
     "metadata": {},
     "output_type": "execute_result"
    },
    {
     "data": {
      "text/plain": [
       "(1, 271357)"
      ]
     },
     "execution_count": 106,
     "metadata": {},
     "output_type": "execute_result"
    }
   ],
   "source": [
    "similarities\n",
    "similarities.shape\n",
    "\n",
    "#print(np.sort(similarities)[:,-10:-1])\n",
    "#print(similarities.sort())\n",
    "\n",
    "indices_of_largest = np.argsort(similarities)[:, -(100+1):-1]\n",
    "indices_of_largest = np.flip(indices_of_largest.flatten())\n",
    "#indices_of_largest"
   ]
  },
  {
   "cell_type": "code",
   "execution_count": 107,
   "metadata": {},
   "outputs": [
    {
     "data": {
      "text/html": [
       "<div>\n",
       "<style scoped>\n",
       "    .dataframe tbody tr th:only-of-type {\n",
       "        vertical-align: middle;\n",
       "    }\n",
       "\n",
       "    .dataframe tbody tr th {\n",
       "        vertical-align: top;\n",
       "    }\n",
       "\n",
       "    .dataframe thead th {\n",
       "        text-align: right;\n",
       "    }\n",
       "</style>\n",
       "<table border=\"1\" class=\"dataframe\">\n",
       "  <thead>\n",
       "    <tr style=\"text-align: right;\">\n",
       "      <th></th>\n",
       "      <th>ISBN</th>\n",
       "      <th>title</th>\n",
       "      <th>author</th>\n",
       "      <th>year</th>\n",
       "      <th>publisher</th>\n",
       "      <th>Image-URL-S</th>\n",
       "      <th>Image-URL-M</th>\n",
       "      <th>Image-URL-L</th>\n",
       "      <th>explicit_ratings</th>\n",
       "      <th>implicit_ratings</th>\n",
       "      <th>period1</th>\n",
       "      <th>period2</th>\n",
       "      <th>info</th>\n",
       "    </tr>\n",
       "  </thead>\n",
       "  <tbody>\n",
       "    <tr>\n",
       "      <th>4206</th>\n",
       "      <td>0345339738</td>\n",
       "      <td>The Return of the King (The Lord of the Rings,...</td>\n",
       "      <td>J.R.R. TOLKIEN</td>\n",
       "      <td>1986</td>\n",
       "      <td>Del Rey</td>\n",
       "      <td>http://images.amazon.com/images/P/0345339738.0...</td>\n",
       "      <td>http://images.amazon.com/images/P/0345339738.0...</td>\n",
       "      <td>http://images.amazon.com/images/P/0345339738.0...</td>\n",
       "      <td>77.0</td>\n",
       "      <td>96.0</td>\n",
       "      <td>1980</td>\n",
       "      <td>1990</td>\n",
       "      <td>The Return of the King (The Lord of the Rings,...</td>\n",
       "    </tr>\n",
       "    <tr>\n",
       "      <th>780</th>\n",
       "      <td>0345339711</td>\n",
       "      <td>The Two Towers (The Lord of the Rings, Part 2)</td>\n",
       "      <td>J.R.R. TOLKIEN</td>\n",
       "      <td>1986</td>\n",
       "      <td>Del Rey</td>\n",
       "      <td>http://images.amazon.com/images/P/0345339711.0...</td>\n",
       "      <td>http://images.amazon.com/images/P/0345339711.0...</td>\n",
       "      <td>http://images.amazon.com/images/P/0345339711.0...</td>\n",
       "      <td>83.0</td>\n",
       "      <td>94.0</td>\n",
       "      <td>1980</td>\n",
       "      <td>1990</td>\n",
       "      <td>The Two Towers (The Lord of the Rings, Part 2)...</td>\n",
       "    </tr>\n",
       "    <tr>\n",
       "      <th>6866</th>\n",
       "      <td>0345340426</td>\n",
       "      <td>The Hobbit and The Lord of the Rings</td>\n",
       "      <td>J.R.R. TOLKIEN</td>\n",
       "      <td>1986</td>\n",
       "      <td>Del Rey</td>\n",
       "      <td>http://images.amazon.com/images/P/0345340426.0...</td>\n",
       "      <td>http://images.amazon.com/images/P/0345340426.0...</td>\n",
       "      <td>http://images.amazon.com/images/P/0345340426.0...</td>\n",
       "      <td>6.0</td>\n",
       "      <td>2.0</td>\n",
       "      <td>1980</td>\n",
       "      <td>1990</td>\n",
       "      <td>The Hobbit and The Lord of the Rings J.R.R. TO...</td>\n",
       "    </tr>\n",
       "    <tr>\n",
       "      <th>3354</th>\n",
       "      <td>0345339681</td>\n",
       "      <td>The Hobbit : The Enchanting Prelude to The Lor...</td>\n",
       "      <td>J.R.R. TOLKIEN</td>\n",
       "      <td>1986</td>\n",
       "      <td>Del Rey</td>\n",
       "      <td>http://images.amazon.com/images/P/0345339681.0...</td>\n",
       "      <td>http://images.amazon.com/images/P/0345339681.0...</td>\n",
       "      <td>http://images.amazon.com/images/P/0345339681.0...</td>\n",
       "      <td>161.0</td>\n",
       "      <td>120.0</td>\n",
       "      <td>1980</td>\n",
       "      <td>1990</td>\n",
       "      <td>The Hobbit : The Enchanting Prelude to The Lor...</td>\n",
       "    </tr>\n",
       "    <tr>\n",
       "      <th>135872</th>\n",
       "      <td>039556008X</td>\n",
       "      <td>The War of the Ring (The History of The Lord o...</td>\n",
       "      <td>J.R.R. Tolkien</td>\n",
       "      <td>1990</td>\n",
       "      <td>Houghton Mifflin</td>\n",
       "      <td>http://images.amazon.com/images/P/039556008X.0...</td>\n",
       "      <td>http://images.amazon.com/images/P/039556008X.0...</td>\n",
       "      <td>http://images.amazon.com/images/P/039556008X.0...</td>\n",
       "      <td>1.0</td>\n",
       "      <td>NaN</td>\n",
       "      <td>1990</td>\n",
       "      <td>1980</td>\n",
       "      <td>The War of the Ring (The History of The Lord o...</td>\n",
       "    </tr>\n",
       "  </tbody>\n",
       "</table>\n",
       "</div>"
      ],
      "text/plain": [
       "              ISBN                                              title  \\\n",
       "4206    0345339738  The Return of the King (The Lord of the Rings,...   \n",
       "780     0345339711     The Two Towers (The Lord of the Rings, Part 2)   \n",
       "6866    0345340426               The Hobbit and The Lord of the Rings   \n",
       "3354    0345339681  The Hobbit : The Enchanting Prelude to The Lor...   \n",
       "135872  039556008X  The War of the Ring (The History of The Lord o...   \n",
       "\n",
       "                author  year         publisher  \\\n",
       "4206    J.R.R. TOLKIEN  1986           Del Rey   \n",
       "780     J.R.R. TOLKIEN  1986           Del Rey   \n",
       "6866    J.R.R. TOLKIEN  1986           Del Rey   \n",
       "3354    J.R.R. TOLKIEN  1986           Del Rey   \n",
       "135872  J.R.R. Tolkien  1990  Houghton Mifflin   \n",
       "\n",
       "                                              Image-URL-S  \\\n",
       "4206    http://images.amazon.com/images/P/0345339738.0...   \n",
       "780     http://images.amazon.com/images/P/0345339711.0...   \n",
       "6866    http://images.amazon.com/images/P/0345340426.0...   \n",
       "3354    http://images.amazon.com/images/P/0345339681.0...   \n",
       "135872  http://images.amazon.com/images/P/039556008X.0...   \n",
       "\n",
       "                                              Image-URL-M  \\\n",
       "4206    http://images.amazon.com/images/P/0345339738.0...   \n",
       "780     http://images.amazon.com/images/P/0345339711.0...   \n",
       "6866    http://images.amazon.com/images/P/0345340426.0...   \n",
       "3354    http://images.amazon.com/images/P/0345339681.0...   \n",
       "135872  http://images.amazon.com/images/P/039556008X.0...   \n",
       "\n",
       "                                              Image-URL-L  explicit_ratings  \\\n",
       "4206    http://images.amazon.com/images/P/0345339738.0...              77.0   \n",
       "780     http://images.amazon.com/images/P/0345339711.0...              83.0   \n",
       "6866    http://images.amazon.com/images/P/0345340426.0...               6.0   \n",
       "3354    http://images.amazon.com/images/P/0345339681.0...             161.0   \n",
       "135872  http://images.amazon.com/images/P/039556008X.0...               1.0   \n",
       "\n",
       "        implicit_ratings  period1  period2  \\\n",
       "4206                96.0     1980     1990   \n",
       "780                 94.0     1980     1990   \n",
       "6866                 2.0     1980     1990   \n",
       "3354               120.0     1980     1990   \n",
       "135872               NaN     1990     1980   \n",
       "\n",
       "                                                     info  \n",
       "4206    The Return of the King (The Lord of the Rings,...  \n",
       "780     The Two Towers (The Lord of the Rings, Part 2)...  \n",
       "6866    The Hobbit and The Lord of the Rings J.R.R. TO...  \n",
       "3354    The Hobbit : The Enchanting Prelude to The Lor...  \n",
       "135872  The War of the Ring (The History of The Lord o...  "
      ]
     },
     "execution_count": 107,
     "metadata": {},
     "output_type": "execute_result"
    }
   ],
   "source": [
    "similarity_selection = books.iloc[indices_of_largest.flatten()].copy()\n",
    "similarity_selection[~(similarity_selection.title.str.contains(input_name))].iloc[0:choose_n]"
   ]
  },
  {
   "cell_type": "markdown",
   "metadata": {},
   "source": [
    "# Explicit Ratings Selection"
   ]
  },
  {
   "cell_type": "code",
   "execution_count": 108,
   "metadata": {},
   "outputs": [],
   "source": [
    "explicit_ratings = ratings[ratings.rating != 0].copy()\n",
    "implicit_ratings = ratings[ratings.rating == 0].copy()\n",
    "implicit_ratings.rating =+ 1"
   ]
  },
  {
   "cell_type": "code",
   "execution_count": 114,
   "metadata": {},
   "outputs": [
    {
     "data": {
      "text/plain": [
       "<185972x77805 sparse matrix of type '<class 'numpy.int64'>'\n",
       "\twith 433671 stored elements in Compressed Sparse Row format>"
      ]
     },
     "execution_count": 114,
     "metadata": {},
     "output_type": "execute_result"
    },
    {
     "data": {
      "text/plain": [
       "(185972, 77805)"
      ]
     },
     "execution_count": 114,
     "metadata": {},
     "output_type": "execute_result"
    }
   ],
   "source": [
    "#Converting explicit ratings into pivotted form in a sparse matrix (pd.pivot() cannot produce sparse it seems)\n",
    "#kudos to this post: https://stackoverflow.com/questions/31661604/efficiently-create-sparse-pivot-tables-in-pandas\n",
    "ISBN_c = CategoricalDtype(explicit_ratings.ISBN.unique(), ordered=False)\n",
    "user_c = CategoricalDtype(explicit_ratings.user.unique(), ordered=False)\n",
    "\n",
    "row = explicit_ratings.ISBN.astype(ISBN_c).cat.codes\n",
    "col = explicit_ratings.user.astype(user_c).cat.codes\n",
    "explicit_sparse_matrix = csr_matrix((explicit_ratings[\"rating\"], (row, col)), \n",
    "                           shape=(ISBN_c.categories.size, user_c.categories.size))\n",
    "\n",
    "sparse_matrix\n",
    "\n",
    "#This will be likely unnecessary in the end\n",
    "dfs = pd.DataFrame.sparse.from_spmatrix(explicit_sparse_matrix, \n",
    "                         index=ISBN_c.categories, \n",
    "                         columns=user_c.categories\n",
    "                         )\n",
    "dfs.shape"
   ]
  },
  {
   "cell_type": "code",
   "execution_count": 118,
   "metadata": {},
   "outputs": [
    {
     "data": {
      "text/plain": [
       "Index(['0155061224', '052165615X', '0521795028', '3257224281', '0600570967',\n",
       "       '038550120X', '342310538', '0060517794', '0671537458', '0679776818',\n",
       "       ...\n",
       "       '1931333246', '0316185922', '0312264186', '0345377818', '0425156737',\n",
       "       '0671563149', '1575660792', '0380796155', '0806917695', '05162443314'],\n",
       "      dtype='object', length=185972)"
      ]
     },
     "execution_count": 118,
     "metadata": {},
     "output_type": "execute_result"
    }
   ],
   "source": [
    "ISBN_c.categories #Either get index of input ISBN from the sparse matrix and use sparse matrix, or use the df and use ISBN. \n",
    "#using sparse matrix seems better to me, will see what is fatser in knn"
   ]
  },
  {
   "cell_type": "code",
   "execution_count": 113,
   "metadata": {},
   "outputs": [
    {
     "data": {
      "text/plain": [
       "276726    0\n",
       "276729    0\n",
       "276736    0\n",
       "276737    0\n",
       "276744    0\n",
       "         ..\n",
       "276688    0\n",
       "276704    0\n",
       "276709    0\n",
       "276721    0\n",
       "276723    0\n",
       "Name: 0345339703, Length: 77805, dtype: Sparse[int64, 0]"
      ]
     },
     "execution_count": 113,
     "metadata": {},
     "output_type": "execute_result"
    },
    {
     "data": {
      "text/plain": [
       "131"
      ]
     },
     "execution_count": 113,
     "metadata": {},
     "output_type": "execute_result"
    }
   ],
   "source": [
    "dfs.loc[input_ISBN, :]\n",
    "(dfs.loc[input_ISBN, :] >0).sum()"
   ]
  },
  {
   "cell_type": "code",
   "execution_count": 111,
   "metadata": {},
   "outputs": [
    {
     "data": {
      "text/plain": [
       "15"
      ]
     },
     "execution_count": 111,
     "metadata": {},
     "output_type": "execute_result"
    },
    {
     "data": {
      "text/plain": [
       "<1x77805 sparse matrix of type '<class 'numpy.int64'>'\n",
       "\twith 15 stored elements in Compressed Sparse Row format>"
      ]
     },
     "execution_count": 111,
     "metadata": {},
     "output_type": "execute_result"
    }
   ],
   "source": [
    "(dfs.iloc[input_index] >0).sum()\n",
    "explicit_sparse_matrix[input_index, :]"
   ]
  },
  {
   "cell_type": "code",
   "execution_count": null,
   "metadata": {},
   "outputs": [],
   "source": [
    "#KNN\n"
   ]
  }
 ],
 "metadata": {
  "kernelspec": {
   "display_name": "Python 3",
   "language": "python",
   "name": "python3"
  },
  "language_info": {
   "codemirror_mode": {
    "name": "ipython",
    "version": 3
   },
   "file_extension": ".py",
   "mimetype": "text/x-python",
   "name": "python",
   "nbconvert_exporter": "python",
   "pygments_lexer": "ipython3",
   "version": "3.9.7"
  },
  "orig_nbformat": 4
 },
 "nbformat": 4,
 "nbformat_minor": 2
}
