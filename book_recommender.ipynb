{
 "cells": [
  {
   "cell_type": "markdown",
   "metadata": {},
   "source": [
    "# Book Recommender\n",
    "\n",
    "Goal of this project is to try out several different approaches to a book recommender system.\n",
    "\n",
    "Data used here come from freely available dataset: http://www2.informatik.uni-freiburg.de/~cziegler/BX/\n",
    "\n",
    "## Data\n",
    "\n",
    "The data set contains three tables:\n",
    " - books: 250k+ books with ISBN, title, author, year of publication, publisher, and URLs containing book covers\n",
    " - ratings: 1.1M+ ratings of the books from 100k users, split into implicit (given by 0) and explicit (given by ints 1 to 10) ratings\n",
    " - users: information on user age and location (approx. half of the users have age missing)\n",
    "\n",
    "## Approaches\n",
    "\n",
    "I took three approaches to making recommendations. In all of them, the **input** is a string containing a (part) of title of a book of out liking, for which we are looking for similar books. If there are more books with the input title, the recommender continues with the one with highest number of reviews.\n",
    "\n",
    "Each method recommends **n** books which user might like (I set n = 5).\n",
    "\n",
    "1. **Recommendation based on bibliographic similarity**: The idea is to recommend books from the same author, publisher, and time period, or with similar titles (i.e. continuation of a series).\n",
    "    - I added two features representing time period (tens) when the book was published, and second most adjecent period, to increase similarity between books from similar time, but not the same year\n",
    "    - Then I created string feature 'info' by concatanating book title, author, year, publisher, period1, period2\n",
    "    - Based on 'info' I created binary term frequency matrix with shape (*n. of unique ISBNs*, *n. of unique terms in 'info'*)\n",
    "    - I computed cosine similarity between input_book and all other books in the term matrix, and selected n+1 most similar books (then excluded the input book).\n",
    "\n",
    "\n",
    "2. **Recommendation based on explicit ratings**: Users that liked the input book are likely to have the same taste as us. Hence the goal here is to recommend books that are similar as the input book in terms of users that rated the books and also in terms of the ratings themselves.\n",
    "    - I created sparse pivot table with ISBNs on y axis (index) and user IDs on x axis (columns). The values are the ratings (1 to 10) or 0 for not-rated.\n",
    "    - Then I computed n most similar books using sklearn's `NearestNeighbor()`\n",
    "        - I wanted to use the Euclidean distance meassure to utilize the rating values. However, when using on full table, the zeros skew the distance (as infrequently-rated books seem close) and the recommendations are meaningless.\n",
    "        - Potential solution is to use cosine similarity, this however ignores the rating magnitude, effectively it is similar to using implicit ratings.\n",
    "        - As an alternative, I restricted the data to only those users that rated the input book. In this case, the Euclidean distance makes sense.\n",
    "\n",
    "        \n",
    "3. **Recommendation based on implicit ratings**: Similarly as in previous, users interested in our input book might be also interested in other books that we could like.\n",
    "    - Same asi in 2., I made pivot table with books as index and users as columns, and values = 1 for implicit rating, zeros elsewhere.\n",
    "    - Then based on cosine similariy I choose n closest books."
   ]
  },
  {
   "cell_type": "code",
   "execution_count": 54,
   "metadata": {},
   "outputs": [],
   "source": [
    "import pandas as pd\n",
    "import numpy as np\n",
    "import matplotlib.pyplot as plt\n",
    "pd.set_option('display.max_rows', 500)\n",
    "pd.set_option('display.max_columns', 500)\n",
    "from IPython.core.interactiveshell import InteractiveShell\n",
    "InteractiveShell.ast_node_interactivity = \"all\"\n",
    "\n",
    "from sklearn.feature_extraction.text import CountVectorizer\n",
    "from sklearn.metrics.pairwise import cosine_similarity\n",
    "from sklearn.neighbors import NearestNeighbors\n",
    "\n",
    "from scipy.sparse import find, csr_matrix\n",
    "from pandas.api.types import CategoricalDtype"
   ]
  },
  {
   "cell_type": "markdown",
   "metadata": {},
   "source": [
    "# Data Loading & Clearing"
   ]
  },
  {
   "cell_type": "code",
   "execution_count": 55,
   "metadata": {},
   "outputs": [],
   "source": [
    "#Ideas\n",
    "\n",
    "#How could user enter book: Enter part of title, then search in books dataframe with .title.str.contains(<input>), \n",
    "#then sort results by number of ratings to get the most rated book and hence the highest chance of good recommendations.\n",
    "\n",
    "#Also, filter the outputs not to contain the same string which was given as input"
   ]
  },
  {
   "cell_type": "code",
   "execution_count": 56,
   "metadata": {},
   "outputs": [
    {
     "data": {
      "text/plain": [
       "(1149780, 3)"
      ]
     },
     "execution_count": 56,
     "metadata": {},
     "output_type": "execute_result"
    },
    {
     "data": {
      "text/plain": [
       "user      105283\n",
       "ISBN      340553\n",
       "rating        11\n",
       "dtype: int64"
      ]
     },
     "execution_count": 56,
     "metadata": {},
     "output_type": "execute_result"
    }
   ],
   "source": [
    "ratings = pd.read_csv('BX-Book-Ratings.csv', sep = ';' , encoding='utf-8', on_bad_lines='warn', encoding_errors = 'ignore') #There are some suspicious ISBNs, we might loos them as they will not match with books on merging\n",
    "ratings.rename(columns={'User-ID':'user'\n",
    "                        , 'Book-Rating': 'rating'}, inplace=True)\n",
    "ratings.shape\n",
    "ratings.nunique()"
   ]
  },
  {
   "cell_type": "code",
   "execution_count": 84,
   "metadata": {},
   "outputs": [
    {
     "name": "stderr",
     "output_type": "stream",
     "text": [
      "b'Skipping line 6452: expected 8 fields, saw 9\\nSkipping line 43667: expected 8 fields, saw 10\\nSkipping line 51751: expected 8 fields, saw 9\\n'\n",
      "b'Skipping line 92038: expected 8 fields, saw 9\\nSkipping line 104319: expected 8 fields, saw 9\\nSkipping line 121768: expected 8 fields, saw 9\\n'\n",
      "b'Skipping line 144058: expected 8 fields, saw 9\\nSkipping line 150789: expected 8 fields, saw 9\\nSkipping line 157128: expected 8 fields, saw 9\\nSkipping line 180189: expected 8 fields, saw 9\\nSkipping line 185738: expected 8 fields, saw 9\\n'\n",
      "b'Skipping line 209388: expected 8 fields, saw 9\\nSkipping line 220626: expected 8 fields, saw 9\\nSkipping line 227933: expected 8 fields, saw 11\\nSkipping line 228957: expected 8 fields, saw 10\\nSkipping line 245933: expected 8 fields, saw 9\\nSkipping line 251296: expected 8 fields, saw 9\\nSkipping line 259941: expected 8 fields, saw 9\\nSkipping line 261529: expected 8 fields, saw 9\\n'\n",
      "d:\\Program_files\\Anaconda_nw_install_2022\\lib\\site-packages\\IPython\\core\\interactiveshell.py:3444: DtypeWarning: Columns (3) have mixed types.Specify dtype option on import or set low_memory=False.\n",
      "  exec(code_obj, self.user_global_ns, self.user_ns)\n"
     ]
    },
    {
     "data": {
      "text/plain": [
       "(271360, 8)"
      ]
     },
     "execution_count": 84,
     "metadata": {},
     "output_type": "execute_result"
    },
    {
     "data": {
      "text/plain": [
       "ISBN           271360\n",
       "title          242135\n",
       "author         102023\n",
       "year              202\n",
       "publisher       16807\n",
       "Image-URL-S    271044\n",
       "Image-URL-M    271044\n",
       "Image-URL-L    271041\n",
       "dtype: int64"
      ]
     },
     "execution_count": 84,
     "metadata": {},
     "output_type": "execute_result"
    }
   ],
   "source": [
    "# dtype_mapping = {\n",
    "#     'Year-Of-Publication': float\n",
    "# }\n",
    "books = pd.read_csv('BX-Books.csv', sep = ';', encoding='utf-8', on_bad_lines='warn', encoding_errors = 'ignore')\n",
    "books.rename(columns={'Book-Title':'title'\n",
    "                        , 'Book-Author': 'author'\n",
    "                        , 'Year-Of-Publication': 'year'\n",
    "                        , 'Publisher': 'publisher'}, inplace=True)\n",
    "books.shape\n",
    "books.nunique()"
   ]
  },
  {
   "cell_type": "code",
   "execution_count": 174,
   "metadata": {},
   "outputs": [
    {
     "data": {
      "text/plain": [
       "(278858, 3)"
      ]
     },
     "execution_count": 174,
     "metadata": {},
     "output_type": "execute_result"
    },
    {
     "data": {
      "text/plain": [
       "user        278858\n",
       "location     57293\n",
       "age            165\n",
       "dtype: int64"
      ]
     },
     "execution_count": 174,
     "metadata": {},
     "output_type": "execute_result"
    },
    {
     "data": {
      "text/plain": [
       "user             0\n",
       "location         0\n",
       "age         110762\n",
       "dtype: int64"
      ]
     },
     "execution_count": 174,
     "metadata": {},
     "output_type": "execute_result"
    }
   ],
   "source": [
    "users = pd.read_csv('BX-Users.csv', sep = ';' , encoding='utf-8', on_bad_lines='warn', encoding_errors = 'ignore')\n",
    "users.rename(columns={'User-ID':'user'\n",
    "                        , 'Location': 'location'\n",
    "                        , 'Age': 'age'}, inplace=True)\n",
    "users.shape\n",
    "users.nunique()"
   ]
  },
  {
   "cell_type": "code",
   "execution_count": 85,
   "metadata": {},
   "outputs": [
    {
     "data": {
      "text/html": [
       "<div>\n",
       "<style scoped>\n",
       "    .dataframe tbody tr th:only-of-type {\n",
       "        vertical-align: middle;\n",
       "    }\n",
       "\n",
       "    .dataframe tbody tr th {\n",
       "        vertical-align: top;\n",
       "    }\n",
       "\n",
       "    .dataframe thead th {\n",
       "        text-align: right;\n",
       "    }\n",
       "</style>\n",
       "<table border=\"1\" class=\"dataframe\">\n",
       "  <thead>\n",
       "    <tr style=\"text-align: right;\">\n",
       "      <th></th>\n",
       "      <th>user</th>\n",
       "      <th>ISBN</th>\n",
       "      <th>rating</th>\n",
       "    </tr>\n",
       "  </thead>\n",
       "  <tbody>\n",
       "    <tr>\n",
       "      <th>0</th>\n",
       "      <td>276725</td>\n",
       "      <td>034545104X</td>\n",
       "      <td>0</td>\n",
       "    </tr>\n",
       "    <tr>\n",
       "      <th>1</th>\n",
       "      <td>276726</td>\n",
       "      <td>0155061224</td>\n",
       "      <td>5</td>\n",
       "    </tr>\n",
       "    <tr>\n",
       "      <th>2</th>\n",
       "      <td>276727</td>\n",
       "      <td>0446520802</td>\n",
       "      <td>0</td>\n",
       "    </tr>\n",
       "    <tr>\n",
       "      <th>3</th>\n",
       "      <td>276729</td>\n",
       "      <td>052165615X</td>\n",
       "      <td>3</td>\n",
       "    </tr>\n",
       "    <tr>\n",
       "      <th>4</th>\n",
       "      <td>276729</td>\n",
       "      <td>0521795028</td>\n",
       "      <td>6</td>\n",
       "    </tr>\n",
       "  </tbody>\n",
       "</table>\n",
       "</div>"
      ],
      "text/plain": [
       "     user        ISBN  rating\n",
       "0  276725  034545104X       0\n",
       "1  276726  0155061224       5\n",
       "2  276727  0446520802       0\n",
       "3  276729  052165615X       3\n",
       "4  276729  0521795028       6"
      ]
     },
     "execution_count": 85,
     "metadata": {},
     "output_type": "execute_result"
    }
   ],
   "source": [
    "ratings.head()"
   ]
  },
  {
   "cell_type": "code",
   "execution_count": 88,
   "metadata": {},
   "outputs": [],
   "source": [
    "#How many ratings each book have? Add a column with # of expl./impl. ratings\n",
    "explicit_rating_counts = ratings[ratings['rating'] > 0][['ISBN', 'rating']].groupby('ISBN', as_index=False).count().rename(columns={'rating':'explicit_ratings'})\n",
    "implicit_rating_counts = ratings[ratings['rating'] == 0][['ISBN', 'rating']].groupby('ISBN', as_index=False).count().rename(columns={'rating':'implicit_ratings'})\n",
    "#implicit_rating_counts\n",
    "\n",
    "if 'explicit_ratings' not in books.columns:\n",
    "    books = books.merge(explicit_rating_counts, on = 'ISBN', how='left')\n",
    "    books = books.merge(implicit_rating_counts, on = 'ISBN', how='left')"
   ]
  },
  {
   "cell_type": "code",
   "execution_count": 90,
   "metadata": {},
   "outputs": [
    {
     "data": {
      "text/html": [
       "<div>\n",
       "<style scoped>\n",
       "    .dataframe tbody tr th:only-of-type {\n",
       "        vertical-align: middle;\n",
       "    }\n",
       "\n",
       "    .dataframe tbody tr th {\n",
       "        vertical-align: top;\n",
       "    }\n",
       "\n",
       "    .dataframe thead th {\n",
       "        text-align: right;\n",
       "    }\n",
       "</style>\n",
       "<table border=\"1\" class=\"dataframe\">\n",
       "  <thead>\n",
       "    <tr style=\"text-align: right;\">\n",
       "      <th></th>\n",
       "      <th>ISBN</th>\n",
       "      <th>title</th>\n",
       "      <th>author</th>\n",
       "      <th>year</th>\n",
       "      <th>publisher</th>\n",
       "      <th>explicit_ratings</th>\n",
       "      <th>implicit_ratings</th>\n",
       "    </tr>\n",
       "  </thead>\n",
       "  <tbody>\n",
       "    <tr>\n",
       "      <th>0</th>\n",
       "      <td>0195153448</td>\n",
       "      <td>Classical Mythology</td>\n",
       "      <td>Mark P. O. Morford</td>\n",
       "      <td>2002</td>\n",
       "      <td>Oxford University Press</td>\n",
       "      <td>NaN</td>\n",
       "      <td>1.0</td>\n",
       "    </tr>\n",
       "    <tr>\n",
       "      <th>1</th>\n",
       "      <td>0002005018</td>\n",
       "      <td>Clara Callan</td>\n",
       "      <td>Richard Bruce Wright</td>\n",
       "      <td>2001</td>\n",
       "      <td>HarperFlamingo Canada</td>\n",
       "      <td>9.0</td>\n",
       "      <td>5.0</td>\n",
       "    </tr>\n",
       "    <tr>\n",
       "      <th>2</th>\n",
       "      <td>0060973129</td>\n",
       "      <td>Decision in Normandy</td>\n",
       "      <td>Carlo D'Este</td>\n",
       "      <td>1991</td>\n",
       "      <td>HarperPerennial</td>\n",
       "      <td>2.0</td>\n",
       "      <td>1.0</td>\n",
       "    </tr>\n",
       "    <tr>\n",
       "      <th>3</th>\n",
       "      <td>0374157065</td>\n",
       "      <td>Flu: The Story of the Great Influenza Pandemic...</td>\n",
       "      <td>Gina Bari Kolata</td>\n",
       "      <td>1999</td>\n",
       "      <td>Farrar Straus Giroux</td>\n",
       "      <td>6.0</td>\n",
       "      <td>5.0</td>\n",
       "    </tr>\n",
       "    <tr>\n",
       "      <th>4</th>\n",
       "      <td>0393045218</td>\n",
       "      <td>The Mummies of Urumchi</td>\n",
       "      <td>E. J. W. Barber</td>\n",
       "      <td>1999</td>\n",
       "      <td>W. W. Norton &amp;amp; Company</td>\n",
       "      <td>NaN</td>\n",
       "      <td>1.0</td>\n",
       "    </tr>\n",
       "  </tbody>\n",
       "</table>\n",
       "</div>"
      ],
      "text/plain": [
       "         ISBN                                              title  \\\n",
       "0  0195153448                                Classical Mythology   \n",
       "1  0002005018                                       Clara Callan   \n",
       "2  0060973129                               Decision in Normandy   \n",
       "3  0374157065  Flu: The Story of the Great Influenza Pandemic...   \n",
       "4  0393045218                             The Mummies of Urumchi   \n",
       "\n",
       "                 author  year                   publisher  explicit_ratings  \\\n",
       "0    Mark P. O. Morford  2002     Oxford University Press               NaN   \n",
       "1  Richard Bruce Wright  2001       HarperFlamingo Canada               9.0   \n",
       "2          Carlo D'Este  1991             HarperPerennial               2.0   \n",
       "3      Gina Bari Kolata  1999        Farrar Straus Giroux               6.0   \n",
       "4       E. J. W. Barber  1999  W. W. Norton &amp; Company               NaN   \n",
       "\n",
       "   implicit_ratings  \n",
       "0               1.0  \n",
       "1               5.0  \n",
       "2               1.0  \n",
       "3               5.0  \n",
       "4               1.0  "
      ]
     },
     "execution_count": 90,
     "metadata": {},
     "output_type": "execute_result"
    }
   ],
   "source": [
    "#Clearing the years of publication\n",
    "books.drop(books[books['year'] == 'Gallimard'].index, axis = 0, inplace=True)\n",
    "books.drop(books[books['year'] == 'DK Publishing Inc'].index, axis = 0, inplace=True)\n",
    "books['year'] = books['year'].astype(int, errors='ignore')\n",
    "books.loc[books.year > 2023, 'year'] = 0 #setting impossible years to 0\n",
    "\n",
    "#books.loc[books.year == 0, 'year'] = np.NAN #Leaving NAs as zeros\n",
    "#books.year.unique()\n",
    "books.head()[['ISBN', 'title', 'author', 'year', 'publisher', 'explicit_ratings', 'implicit_ratings']] #Leaving out the URLs"
   ]
  },
  {
   "cell_type": "code",
   "execution_count": 633,
   "metadata": {},
   "outputs": [
    {
     "data": {
      "text/html": [
       "<div>\n",
       "<style scoped>\n",
       "    .dataframe tbody tr th:only-of-type {\n",
       "        vertical-align: middle;\n",
       "    }\n",
       "\n",
       "    .dataframe tbody tr th {\n",
       "        vertical-align: top;\n",
       "    }\n",
       "\n",
       "    .dataframe thead th {\n",
       "        text-align: right;\n",
       "    }\n",
       "</style>\n",
       "<table border=\"1\" class=\"dataframe\">\n",
       "  <thead>\n",
       "    <tr style=\"text-align: right;\">\n",
       "      <th></th>\n",
       "      <th>ISBN</th>\n",
       "      <th>title</th>\n",
       "      <th>author</th>\n",
       "      <th>year</th>\n",
       "      <th>publisher</th>\n",
       "      <th>explicit_ratings</th>\n",
       "      <th>implicit_ratings</th>\n",
       "    </tr>\n",
       "  </thead>\n",
       "  <tbody>\n",
       "    <tr>\n",
       "      <th>1571</th>\n",
       "      <td>0345339703</td>\n",
       "      <td>The Fellowship of the Ring (The Lord of the Ri...</td>\n",
       "      <td>J.R.R. TOLKIEN</td>\n",
       "      <td>1986</td>\n",
       "      <td>Del Rey</td>\n",
       "      <td>131.0</td>\n",
       "      <td>126.0</td>\n",
       "    </tr>\n",
       "  </tbody>\n",
       "</table>\n",
       "</div>"
      ],
      "text/plain": [
       "            ISBN                                              title  \\\n",
       "1571  0345339703  The Fellowship of the Ring (The Lord of the Ri...   \n",
       "\n",
       "              author  year publisher  explicit_ratings  implicit_ratings  \n",
       "1571  J.R.R. TOLKIEN  1986   Del Rey             131.0             126.0  "
      ]
     },
     "metadata": {},
     "output_type": "display_data"
    }
   ],
   "source": [
    "##Inputs/argumets\n",
    "#Example books which I used for testing\n",
    "\n",
    "# input_name = 'The Lord of the Rings' #Unclear input, when name of the series is given, instead use a name of a book\n",
    "input_name = 'The Fellowship of the Ring'\n",
    "# input_name = 'Two Towers'\n",
    "# input_name = 'Silmarillion'\n",
    "# input_name = 'The Eye of the World'\n",
    "# input_name = 'Great Expectations' \n",
    "# input_name = 'The Color of Magic'\n",
    "# input_name = 'The Egyptian' #Here is a problem that title contains 'A Novel'. Giving more weight to author could help?\n",
    "# input_name = 'Hotel New Hampshire'\n",
    "# input_name = 'The Shining'\n",
    "# input_name = 'For Whom the Bell Tolls'\n",
    "\n",
    "input_book = (books[(books['title'].str.contains(input_name))\n",
    "                .replace(np.NaN, False)]\n",
    "                .sort_values(['explicit_ratings', 'implicit_ratings'], ascending = False).head(1)[['ISBN', 'title', 'author', 'year', 'publisher', \n",
    "                                                                                                   'explicit_ratings', 'implicit_ratings']]\n",
    "                )\n",
    "\n",
    "display(input_book)\n",
    "\n",
    "input_index = input_book.index[0]\n",
    "input_ISBN = input_book.ISBN.values[0]\n",
    "input_title = input_book.title.values[0]\n",
    "input_author = input_book.author.values[0]\n",
    "              \n",
    "choose_n = 5"
   ]
  },
  {
   "cell_type": "markdown",
   "metadata": {},
   "source": [
    "# Bibliographic Similarity Selection"
   ]
  },
  {
   "cell_type": "code",
   "execution_count": 634,
   "metadata": {},
   "outputs": [],
   "source": [
    "#Adding a time period feature, representing tens when the book was released, on top of the year\n",
    "#The idea here is to add firslty the tens of the book release, and secondly the most adjecent tens as a secondary variable\n",
    "#Hence e.g. for 1991 -> 1990 and 1980, and for 1998 -> 1990 and 2000\n",
    "books['period1'] = (books.year // 10) * 10\n",
    "books['period2'] = books['period1'] + ((((books.year - books.period1) >= 5)*2-1)*10)"
   ]
  },
  {
   "cell_type": "code",
   "execution_count": 635,
   "metadata": {},
   "outputs": [],
   "source": [
    "#Creating information string for each book\n",
    "books['info'] = ( books.title + ' ' +\n",
    "                 (books.author.fillna('') + ' ')*1 \n",
    "                 + books.publisher.fillna('') + ' ' \n",
    "                 + books.year.astype(str) + ' ' \n",
    "                 + books.period1.astype(str) + ' ' \n",
    "                 + books.period2.astype(str)\n",
    "                 )\n",
    "#Here possibly add weight by multiplying the number of times the info appears?\n",
    "#But if I will use cosine similarity, this way of adding weights is probably useless: https://www.pinecone.io/learn/vector-similarity/"
   ]
  },
  {
   "cell_type": "code",
   "execution_count": 636,
   "metadata": {},
   "outputs": [
    {
     "name": "stdout",
     "output_type": "stream",
     "text": [
      "Classical Mythology Mark P. O. Morford Oxford University Press 2002 2000 1990\n",
      "Clara Callan Richard Bruce Wright HarperFlamingo Canada 2001 2000 1990\n",
      "Decision in Normandy Carlo D'Este HarperPerennial 1991 1990 1980\n"
     ]
    }
   ],
   "source": [
    "#Exmple of the 'info' feature\n",
    "\n",
    "#books[books['info'].isna()] #empty df\n",
    "for i in books['info'][0:3]:\n",
    "    print(i)"
   ]
  },
  {
   "cell_type": "code",
   "execution_count": 637,
   "metadata": {},
   "outputs": [
    {
     "name": "stdout",
     "output_type": "stream",
     "text": [
      "271357 (271357, 117284)\n"
     ]
    }
   ],
   "source": [
    "#Creating term matrix\n",
    "vectorizer = CountVectorizer()\n",
    "term_matrix = vectorizer.fit_transform(books['info'])\n",
    "\n",
    "print(len(books), term_matrix.shape)"
   ]
  },
  {
   "cell_type": "code",
   "execution_count": 638,
   "metadata": {},
   "outputs": [],
   "source": [
    "#Computng cosine similarities\n",
    "row_to_compare = term_matrix[input_index, :]\n",
    "similarities = cosine_similarity(row_to_compare, term_matrix)\n",
    "#similarities\n",
    "\n",
    "indices_of_largest = np.argsort(similarities)[:, -(100+1):-1]\n",
    "indices_of_largest = np.flip(indices_of_largest.flatten())"
   ]
  },
  {
   "cell_type": "code",
   "execution_count": 639,
   "metadata": {},
   "outputs": [],
   "source": [
    "#Selecting most similar books based on 'info'\n",
    "similarity_selection = books.iloc[indices_of_largest.flatten()].copy()\n",
    "similar_books = similarity_selection[~(similarity_selection.title.str.contains(input_name))].iloc[0:choose_n][['title', 'author', 'year', 'publisher', 'explicit_ratings', 'implicit_ratings']]\n",
    "#similar_books"
   ]
  },
  {
   "cell_type": "markdown",
   "metadata": {},
   "source": [
    "# Explicit Ratings Selection"
   ]
  },
  {
   "cell_type": "code",
   "execution_count": 640,
   "metadata": {},
   "outputs": [],
   "source": [
    "#Making subsets for explicit and iplicit ratings\n",
    "explicit_ratings = ratings[ratings.rating != 0].copy()\n",
    "implicit_ratings = ratings[ratings.rating == 0].copy()\n",
    "implicit_ratings.rating =+ 1"
   ]
  },
  {
   "cell_type": "code",
   "execution_count": 641,
   "metadata": {},
   "outputs": [
    {
     "data": {
      "text/plain": [
       "<AxesSubplot:>"
      ]
     },
     "execution_count": 641,
     "metadata": {},
     "output_type": "execute_result"
    },
    {
     "data": {
      "image/png": "[encoded data removed]",
      "text/plain": [
       "<Figure size 432x288 with 1 Axes>"
      ]
     },
     "metadata": {
      "needs_background": "light"
     },
     "output_type": "display_data"
    }
   ],
   "source": [
    "explicit_ratings.rating.value_counts().sort_index().plot(kind = 'bar') #users mostly rate 5 and higher\n",
    "#Potentially it might be useful to roup ratings into e.g. 4 clases: 1 to 4, 5+6, 7+8, 9+10"
   ]
  },
  {
   "cell_type": "code",
   "execution_count": 642,
   "metadata": {},
   "outputs": [
    {
     "data": {
      "text/plain": [
       "<185972x77805 sparse matrix of type '<class 'numpy.intc'>'\n",
       "\twith 433671 stored elements in Compressed Sparse Row format>"
      ]
     },
     "execution_count": 642,
     "metadata": {},
     "output_type": "execute_result"
    }
   ],
   "source": [
    "#Converting explicit ratings into pivotted form in a sparse matrix (pd.pivot() cannot produce sparse it seems)\n",
    "#kudos to this post: https://stackoverflow.com/questions/31661604/efficiently-create-sparse-pivot-tables-in-pandas\n",
    "ISBN_c = CategoricalDtype(explicit_ratings.ISBN.unique(), ordered=False)\n",
    "user_c = CategoricalDtype(explicit_ratings.user.unique(), ordered=False)\n",
    "\n",
    "row = explicit_ratings.ISBN.astype(ISBN_c).cat.codes\n",
    "col = explicit_ratings.user.astype(user_c).cat.codes\n",
    "explicit_sparse_matrix = csr_matrix((explicit_ratings[\"rating\"], (row, col)), \n",
    "                           shape=(ISBN_c.categories.size, user_c.categories.size),\n",
    "                           dtype=int)\n",
    "\n",
    "explicit_sparse_matrix\n",
    "expl_index = ISBN_c.categories.get_loc(input_ISBN)"
   ]
  },
  {
   "cell_type": "markdown",
   "metadata": {},
   "source": [
    "## Explicit Ratings - Cosine similarity"
   ]
  },
  {
   "cell_type": "code",
   "execution_count": 643,
   "metadata": {},
   "outputs": [
    {
     "data": {
      "text/plain": [
       "NearestNeighbors(metric='cosine', n_neighbors=6)"
      ]
     },
     "execution_count": 643,
     "metadata": {},
     "output_type": "execute_result"
    }
   ],
   "source": [
    "#Nearest Neighbors search\n",
    "model = NearestNeighbors(n_neighbors = choose_n+1, algorithm = 'auto', metric='cosine')\n",
    "model.fit(explicit_sparse_matrix)\n",
    "distances, suggestions = model.kneighbors(explicit_sparse_matrix[expl_index,:], return_distance = True)\n",
    "#Euclidean distance here does not work, because it takes 0s into consideration, so it outputs random books\n",
    "#Cosine distace works, but does not account for the size of vector elements - the reviews themselves, so in the end it \n",
    "#is the same as implicit rating.\n",
    "#I was also thinking about a custom distance metric based on euclidean, but dividing the distance by # of common non-zero obs., \n",
    "#but didnt finished the idea\n",
    "#I will try alternative where I will keep only users (columns) that rated input_book"
   ]
  },
  {
   "cell_type": "code",
   "execution_count": 644,
   "metadata": {},
   "outputs": [],
   "source": [
    "#Selecting the most similar books\n",
    "explicit_ISBN_suggestions = ISBN_c.categories[list(suggestions[0])]\n",
    "explicit_recommendations_cosine = books[books.ISBN.isin(explicit_ISBN_suggestions)\n",
    "        & (~(books.title.str.contains(input_name)))][['title', 'author', 'year', 'publisher', 'explicit_ratings', 'implicit_ratings']]\n",
    "#explicit_recommendations_cosine"
   ]
  },
  {
   "cell_type": "markdown",
   "metadata": {},
   "source": [
    "## Explicit Ratings - Euclidean distance on common"
   ]
  },
  {
   "cell_type": "code",
   "execution_count": 645,
   "metadata": {},
   "outputs": [],
   "source": [
    "#Create new sparse matrix only with the users that rated input book\n",
    "_, col_indices, _ = find(explicit_sparse_matrix[expl_index,:])\n",
    "subset_sparse_matrix = explicit_sparse_matrix[:, col_indices].copy()"
   ]
  },
  {
   "cell_type": "code",
   "execution_count": 646,
   "metadata": {},
   "outputs": [
    {
     "data": {
      "text/plain": [
       "<1x131 sparse matrix of type '<class 'numpy.intc'>'\n",
       "\twith 131 stored elements in Compressed Sparse Row format>"
      ]
     },
     "execution_count": 646,
     "metadata": {},
     "output_type": "execute_result"
    }
   ],
   "source": [
    "subset_sparse_matrix[expl_index,:]"
   ]
  },
  {
   "cell_type": "code",
   "execution_count": 647,
   "metadata": {},
   "outputs": [
    {
     "data": {
      "text/plain": [
       "NearestNeighbors(metric='euclidean', n_neighbors=6)"
      ]
     },
     "execution_count": 647,
     "metadata": {},
     "output_type": "execute_result"
    }
   ],
   "source": [
    "#Nearest Neighbors search\n",
    "model = NearestNeighbors(n_neighbors = choose_n+1, algorithm = 'auto', metric='euclidean')\n",
    "model.fit(subset_sparse_matrix)\n",
    "distances, suggestions = model.kneighbors(subset_sparse_matrix[expl_index,:], return_distance = True)"
   ]
  },
  {
   "cell_type": "code",
   "execution_count": 648,
   "metadata": {},
   "outputs": [],
   "source": [
    "#Selecting the most similar books\n",
    "explicit_ISBN_suggestions = ISBN_c.categories[list(suggestions[0])]\n",
    "explicit_recommendations = books[(books.ISBN.isin(explicit_ISBN_suggestions))\n",
    "                              & (~(books.title.str.contains(input_name)))][['title', 'author', 'year', 'publisher', 'explicit_ratings', 'implicit_ratings']]\n",
    "#explicit_recommendations"
   ]
  },
  {
   "cell_type": "markdown",
   "metadata": {},
   "source": [
    "# Implicit Ratings Selection"
   ]
  },
  {
   "cell_type": "code",
   "execution_count": 649,
   "metadata": {},
   "outputs": [
    {
     "data": {
      "text/plain": [
       "<246724x59517 sparse matrix of type '<class 'numpy.intc'>'\n",
       "\twith 716109 stored elements in Compressed Sparse Row format>"
      ]
     },
     "execution_count": 649,
     "metadata": {},
     "output_type": "execute_result"
    }
   ],
   "source": [
    "#Creating the sparse pivot table for inmplicit ratings\n",
    "ISBN_c = CategoricalDtype(implicit_ratings.ISBN.unique(), ordered=False)\n",
    "user_c = CategoricalDtype(implicit_ratings.user.unique(), ordered=False)\n",
    "\n",
    "row = implicit_ratings.ISBN.astype(ISBN_c).cat.codes\n",
    "col = implicit_ratings.user.astype(user_c).cat.codes\n",
    "implicit_sparse_matrix = csr_matrix((implicit_ratings[\"rating\"], (row, col)), \n",
    "                           shape=(ISBN_c.categories.size, user_c.categories.size),\n",
    "                           dtype=int)\n",
    "\n",
    "implicit_sparse_matrix\n",
    "impl_index = ISBN_c.categories.get_loc(input_ISBN)"
   ]
  },
  {
   "cell_type": "code",
   "execution_count": 650,
   "metadata": {},
   "outputs": [
    {
     "data": {
      "text/plain": [
       "NearestNeighbors(metric='cosine', n_neighbors=6)"
      ]
     },
     "execution_count": 650,
     "metadata": {},
     "output_type": "execute_result"
    }
   ],
   "source": [
    "#Searching with NearestNeghbors()\n",
    "model = NearestNeighbors(n_neighbors = choose_n+1, algorithm = 'auto', metric='cosine')\n",
    "model.fit(implicit_sparse_matrix)\n",
    "distances, suggestions = model.kneighbors(implicit_sparse_matrix[impl_index,:], return_distance = True)"
   ]
  },
  {
   "cell_type": "code",
   "execution_count": 651,
   "metadata": {},
   "outputs": [],
   "source": [
    "#Saving the result\n",
    "implicit_ISBN_suggestions = ISBN_c.categories[list(suggestions[0])]\n",
    "implicit_recommendations = books[(books.ISBN.isin(implicit_ISBN_suggestions))\n",
    "                              & (~(books.title.str.contains(input_name)))][['title', 'author', 'year', 'publisher', 'explicit_ratings', 'implicit_ratings']]"
   ]
  },
  {
   "cell_type": "markdown",
   "metadata": {},
   "source": [
    "# Recommendation"
   ]
  },
  {
   "cell_type": "code",
   "execution_count": 652,
   "metadata": {},
   "outputs": [
    {
     "name": "stdout",
     "output_type": "stream",
     "text": [
      "Selected book: The Fellowship of the Ring (The Lord of the Rings, Part 1) by J.R.R. TOLKIEN \n",
      "\n",
      "Similar books\n"
     ]
    },
    {
     "data": {
      "text/html": [
       "<div>\n",
       "<style scoped>\n",
       "    .dataframe tbody tr th:only-of-type {\n",
       "        vertical-align: middle;\n",
       "    }\n",
       "\n",
       "    .dataframe tbody tr th {\n",
       "        vertical-align: top;\n",
       "    }\n",
       "\n",
       "    .dataframe thead th {\n",
       "        text-align: right;\n",
       "    }\n",
       "</style>\n",
       "<table border=\"1\" class=\"dataframe\">\n",
       "  <thead>\n",
       "    <tr style=\"text-align: right;\">\n",
       "      <th></th>\n",
       "      <th>title</th>\n",
       "      <th>author</th>\n",
       "      <th>year</th>\n",
       "      <th>publisher</th>\n",
       "      <th>explicit_ratings</th>\n",
       "      <th>implicit_ratings</th>\n",
       "    </tr>\n",
       "  </thead>\n",
       "  <tbody>\n",
       "    <tr>\n",
       "      <th>4206</th>\n",
       "      <td>The Return of the King (The Lord of the Rings,...</td>\n",
       "      <td>J.R.R. TOLKIEN</td>\n",
       "      <td>1986</td>\n",
       "      <td>Del Rey</td>\n",
       "      <td>77.0</td>\n",
       "      <td>96.0</td>\n",
       "    </tr>\n",
       "    <tr>\n",
       "      <th>780</th>\n",
       "      <td>The Two Towers (The Lord of the Rings, Part 2)</td>\n",
       "      <td>J.R.R. TOLKIEN</td>\n",
       "      <td>1986</td>\n",
       "      <td>Del Rey</td>\n",
       "      <td>83.0</td>\n",
       "      <td>94.0</td>\n",
       "    </tr>\n",
       "    <tr>\n",
       "      <th>6866</th>\n",
       "      <td>The Hobbit and The Lord of the Rings</td>\n",
       "      <td>J.R.R. TOLKIEN</td>\n",
       "      <td>1986</td>\n",
       "      <td>Del Rey</td>\n",
       "      <td>6.0</td>\n",
       "      <td>2.0</td>\n",
       "    </tr>\n",
       "    <tr>\n",
       "      <th>3354</th>\n",
       "      <td>The Hobbit : The Enchanting Prelude to The Lor...</td>\n",
       "      <td>J.R.R. TOLKIEN</td>\n",
       "      <td>1986</td>\n",
       "      <td>Del Rey</td>\n",
       "      <td>161.0</td>\n",
       "      <td>120.0</td>\n",
       "    </tr>\n",
       "    <tr>\n",
       "      <th>135872</th>\n",
       "      <td>The War of the Ring (The History of The Lord o...</td>\n",
       "      <td>J.R.R. Tolkien</td>\n",
       "      <td>1990</td>\n",
       "      <td>Houghton Mifflin</td>\n",
       "      <td>1.0</td>\n",
       "      <td>NaN</td>\n",
       "    </tr>\n",
       "  </tbody>\n",
       "</table>\n",
       "</div>"
      ],
      "text/plain": [
       "                                                    title          author  \\\n",
       "4206    The Return of the King (The Lord of the Rings,...  J.R.R. TOLKIEN   \n",
       "780        The Two Towers (The Lord of the Rings, Part 2)  J.R.R. TOLKIEN   \n",
       "6866                 The Hobbit and The Lord of the Rings  J.R.R. TOLKIEN   \n",
       "3354    The Hobbit : The Enchanting Prelude to The Lor...  J.R.R. TOLKIEN   \n",
       "135872  The War of the Ring (The History of The Lord o...  J.R.R. Tolkien   \n",
       "\n",
       "        year         publisher  explicit_ratings  implicit_ratings  \n",
       "4206    1986           Del Rey              77.0              96.0  \n",
       "780     1986           Del Rey              83.0              94.0  \n",
       "6866    1986           Del Rey               6.0               2.0  \n",
       "3354    1986           Del Rey             161.0             120.0  \n",
       "135872  1990  Houghton Mifflin               1.0               NaN  "
      ]
     },
     "execution_count": 652,
     "metadata": {},
     "output_type": "execute_result"
    },
    {
     "name": "stdout",
     "output_type": "stream",
     "text": [
      "Other readers also liked:\n"
     ]
    },
    {
     "data": {
      "text/html": [
       "<div>\n",
       "<style scoped>\n",
       "    .dataframe tbody tr th:only-of-type {\n",
       "        vertical-align: middle;\n",
       "    }\n",
       "\n",
       "    .dataframe tbody tr th {\n",
       "        vertical-align: top;\n",
       "    }\n",
       "\n",
       "    .dataframe thead th {\n",
       "        text-align: right;\n",
       "    }\n",
       "</style>\n",
       "<table border=\"1\" class=\"dataframe\">\n",
       "  <thead>\n",
       "    <tr style=\"text-align: right;\">\n",
       "      <th></th>\n",
       "      <th>title</th>\n",
       "      <th>author</th>\n",
       "      <th>year</th>\n",
       "      <th>publisher</th>\n",
       "      <th>explicit_ratings</th>\n",
       "      <th>implicit_ratings</th>\n",
       "    </tr>\n",
       "  </thead>\n",
       "  <tbody>\n",
       "    <tr>\n",
       "      <th>780</th>\n",
       "      <td>The Two Towers (The Lord of the Rings, Part 2)</td>\n",
       "      <td>J.R.R. TOLKIEN</td>\n",
       "      <td>1986</td>\n",
       "      <td>Del Rey</td>\n",
       "      <td>83.0</td>\n",
       "      <td>94.0</td>\n",
       "    </tr>\n",
       "    <tr>\n",
       "      <th>2143</th>\n",
       "      <td>Harry Potter and the Sorcerer's Stone (Harry P...</td>\n",
       "      <td>J. K. Rowling</td>\n",
       "      <td>1999</td>\n",
       "      <td>Arthur A. Levine Books</td>\n",
       "      <td>313.0</td>\n",
       "      <td>258.0</td>\n",
       "    </tr>\n",
       "    <tr>\n",
       "      <th>3354</th>\n",
       "      <td>The Hobbit : The Enchanting Prelude to The Lor...</td>\n",
       "      <td>J.R.R. TOLKIEN</td>\n",
       "      <td>1986</td>\n",
       "      <td>Del Rey</td>\n",
       "      <td>161.0</td>\n",
       "      <td>120.0</td>\n",
       "    </tr>\n",
       "    <tr>\n",
       "      <th>3459</th>\n",
       "      <td>Harry Potter and the Chamber of Secrets (Book 2)</td>\n",
       "      <td>J. K. Rowling</td>\n",
       "      <td>2000</td>\n",
       "      <td>Scholastic</td>\n",
       "      <td>189.0</td>\n",
       "      <td>162.0</td>\n",
       "    </tr>\n",
       "    <tr>\n",
       "      <th>4206</th>\n",
       "      <td>The Return of the King (The Lord of the Rings,...</td>\n",
       "      <td>J.R.R. TOLKIEN</td>\n",
       "      <td>1986</td>\n",
       "      <td>Del Rey</td>\n",
       "      <td>77.0</td>\n",
       "      <td>96.0</td>\n",
       "    </tr>\n",
       "  </tbody>\n",
       "</table>\n",
       "</div>"
      ],
      "text/plain": [
       "                                                  title          author  year  \\\n",
       "780      The Two Towers (The Lord of the Rings, Part 2)  J.R.R. TOLKIEN  1986   \n",
       "2143  Harry Potter and the Sorcerer's Stone (Harry P...   J. K. Rowling  1999   \n",
       "3354  The Hobbit : The Enchanting Prelude to The Lor...  J.R.R. TOLKIEN  1986   \n",
       "3459   Harry Potter and the Chamber of Secrets (Book 2)   J. K. Rowling  2000   \n",
       "4206  The Return of the King (The Lord of the Rings,...  J.R.R. TOLKIEN  1986   \n",
       "\n",
       "                   publisher  explicit_ratings  implicit_ratings  \n",
       "780                  Del Rey              83.0              94.0  \n",
       "2143  Arthur A. Levine Books             313.0             258.0  \n",
       "3354                 Del Rey             161.0             120.0  \n",
       "3459              Scholastic             189.0             162.0  \n",
       "4206                 Del Rey              77.0              96.0  "
      ]
     },
     "execution_count": 652,
     "metadata": {},
     "output_type": "execute_result"
    },
    {
     "name": "stdout",
     "output_type": "stream",
     "text": [
      "Others were also interested in:\n"
     ]
    },
    {
     "data": {
      "text/html": [
       "<div>\n",
       "<style scoped>\n",
       "    .dataframe tbody tr th:only-of-type {\n",
       "        vertical-align: middle;\n",
       "    }\n",
       "\n",
       "    .dataframe tbody tr th {\n",
       "        vertical-align: top;\n",
       "    }\n",
       "\n",
       "    .dataframe thead th {\n",
       "        text-align: right;\n",
       "    }\n",
       "</style>\n",
       "<table border=\"1\" class=\"dataframe\">\n",
       "  <thead>\n",
       "    <tr style=\"text-align: right;\">\n",
       "      <th></th>\n",
       "      <th>title</th>\n",
       "      <th>author</th>\n",
       "      <th>year</th>\n",
       "      <th>publisher</th>\n",
       "      <th>explicit_ratings</th>\n",
       "      <th>implicit_ratings</th>\n",
       "    </tr>\n",
       "  </thead>\n",
       "  <tbody>\n",
       "    <tr>\n",
       "      <th>780</th>\n",
       "      <td>The Two Towers (The Lord of the Rings, Part 2)</td>\n",
       "      <td>J.R.R. TOLKIEN</td>\n",
       "      <td>1986</td>\n",
       "      <td>Del Rey</td>\n",
       "      <td>83.0</td>\n",
       "      <td>94.0</td>\n",
       "    </tr>\n",
       "    <tr>\n",
       "      <th>3354</th>\n",
       "      <td>The Hobbit : The Enchanting Prelude to The Lor...</td>\n",
       "      <td>J.R.R. TOLKIEN</td>\n",
       "      <td>1986</td>\n",
       "      <td>Del Rey</td>\n",
       "      <td>161.0</td>\n",
       "      <td>120.0</td>\n",
       "    </tr>\n",
       "    <tr>\n",
       "      <th>4206</th>\n",
       "      <td>The Return of the King (The Lord of the Rings,...</td>\n",
       "      <td>J.R.R. TOLKIEN</td>\n",
       "      <td>1986</td>\n",
       "      <td>Del Rey</td>\n",
       "      <td>77.0</td>\n",
       "      <td>96.0</td>\n",
       "    </tr>\n",
       "    <tr>\n",
       "      <th>26213</th>\n",
       "      <td>King of the Murgos (Malloreon (Paperback Rando...</td>\n",
       "      <td>David Eddings</td>\n",
       "      <td>1995</td>\n",
       "      <td>Del Rey Books</td>\n",
       "      <td>11.0</td>\n",
       "      <td>18.0</td>\n",
       "    </tr>\n",
       "    <tr>\n",
       "      <th>26214</th>\n",
       "      <td>Guardians of the West (Book 1 of the Malloreon)</td>\n",
       "      <td>David Eddings</td>\n",
       "      <td>1988</td>\n",
       "      <td>Del Rey Books</td>\n",
       "      <td>15.0</td>\n",
       "      <td>29.0</td>\n",
       "    </tr>\n",
       "  </tbody>\n",
       "</table>\n",
       "</div>"
      ],
      "text/plain": [
       "                                                   title          author  \\\n",
       "780       The Two Towers (The Lord of the Rings, Part 2)  J.R.R. TOLKIEN   \n",
       "3354   The Hobbit : The Enchanting Prelude to The Lor...  J.R.R. TOLKIEN   \n",
       "4206   The Return of the King (The Lord of the Rings,...  J.R.R. TOLKIEN   \n",
       "26213  King of the Murgos (Malloreon (Paperback Rando...   David Eddings   \n",
       "26214    Guardians of the West (Book 1 of the Malloreon)   David Eddings   \n",
       "\n",
       "       year      publisher  explicit_ratings  implicit_ratings  \n",
       "780    1986        Del Rey              83.0              94.0  \n",
       "3354   1986        Del Rey             161.0             120.0  \n",
       "4206   1986        Del Rey              77.0              96.0  \n",
       "26213  1995  Del Rey Books              11.0              18.0  \n",
       "26214  1988  Del Rey Books              15.0              29.0  "
      ]
     },
     "execution_count": 652,
     "metadata": {},
     "output_type": "execute_result"
    }
   ],
   "source": [
    "print(f'Selected book: {input_title} by {input_author} \\n')\n",
    "\n",
    "print('Similar books')\n",
    "similar_books\n",
    "\n",
    "print('Other readers also liked:')\n",
    "explicit_recommendations\n",
    "\n",
    "print('Others were also interested in:')\n",
    "implicit_recommendations"
   ]
  },
  {
   "cell_type": "markdown",
   "metadata": {},
   "source": [
    "# Limitations\n",
    "\n",
    "# Further avenues"
   ]
  }
 ],
 "metadata": {
  "kernelspec": {
   "display_name": "Python 3",
   "language": "python",
   "name": "python3"
  },
  "language_info": {
   "codemirror_mode": {
    "name": "ipython",
    "version": 3
   },
   "file_extension": ".py",
   "mimetype": "text/x-python",
   "name": "python",
   "nbconvert_exporter": "python",
   "pygments_lexer": "ipython3",
   "version": "3.9.7"
  },
  "orig_nbformat": 4
 },
 "nbformat": 4,
 "nbformat_minor": 2
}
